{
 "cells": [
  {
   "cell_type": "code",
   "execution_count": 2,
   "metadata": {
    "scrolled": true
   },
   "outputs": [
    {
     "name": "stdout",
     "output_type": "stream",
     "text": [
      "(a:1,(d:2,b:3,c:4),(e:1, f:2))\n",
      "a:1\n",
      "(d:2,b:3,c:4)\n",
      "d:2\n",
      "b:3\n",
      "c:4\n",
      "(e:1, f:2)\n",
      "e:1\n",
      " f:2\n",
      "a 1\n",
      "d 2\n",
      "b 3\n",
      "c 4\n",
      "e 5\n",
      "f 6\n",
      "{None: array([0, 0, 3, 1, 0, 4, 0, 3]), 'a': array([3, 1, 3, 1, 3, 2, 3, 3]), 'd': array([1, 0, 2, 1, 0, 1, 0, 0]), 'b': array([1, 2, 3, 1, 4, 2, 0, 4]), 'c': array([1, 4, 0, 4, 2, 4, 3, 4]), 'e': array([4, 2, 1, 3, 4, 0, 3, 0]), 'f': array([3, 0, 1, 2, 1, 2, 3, 3])}\n",
      "[[inf  5.  4.  3.  5.  8.]\n",
      " [inf  7.  7. 10. 13. 16.]\n",
      " [inf  6.  5.  6.  9. 12.]\n",
      " [inf  5.  6.  8. 11. 14.]\n",
      " [inf 10.  8.  8. 10. 13.]\n",
      " [inf  7.  5.  8. 11. 14.]\n",
      " [inf  8.  7.  6.  9. 12.]\n",
      " [inf 12. 10.  8.  9. 12.]]\n",
      "number of leaf: 6\n",
      "number of sites: 8\n",
      "number of max copies: 5\n"
     ]
    }
   ],
   "source": [
    "from dollo_tree import TreeNode\n",
    "import _delete as dl\n",
    "import numpy as np\n",
    "import seaborn as sns\n",
    "import parsing_tree_gwick as pt\n",
    "import pandas as pd\n",
    "\n",
    "\n",
    "tree_gw = \"(a:1,(d:2,b:3,c:4),(e:1, f:2))\"\n",
    "\n",
    "tree1 = pt.loads(tree_gw)[0]\n",
    "\n",
    "cn_max = 5\n",
    "num_site = 8\n",
    "leaf_cns = {}\n",
    "tree1.count_leaves()\n",
    "\n",
    "for node in tree1.nodes:\n",
    "    leaf_cns[node.name] = np.random.randint(cn_max, size=num_site)\n",
    "print(leaf_cns)\n",
    "#leaf_cns = {\"a\":[1,2], \"b\":[2,4], \"c\":[3,6], \"d\":[4,8]}\n",
    "#dl.calc_score_recursive(tree1, leaf_cns1, 1, 8)\n",
    "#print(tree1.cn_score)\n",
    "dl.calc_score_recursive_vect(tree1, leaf_cns, 1, cn_max, num_site)\n",
    "print(tree1.cn_score)\n",
    "print(\"number of leaf: %d\" % tree1.num_leaves)\n",
    "print(\"number of sites: %d\" % num_site)\n",
    "print(\"number of max copies: %d\" % cn_max)\n",
    "\n",
    "pd.DataFrame(np.array([[1, 2, 3], [4, 5, 6], [7, 8, 9]]),\n",
    "                   columns=['a', 'b', 'c'])\n",
    "\n",
    "pd.DataFrame(tree1.cn_score.transpose(), columns = [str(i+1) for i in range(num_site)]).to_csv(\"parsimony.csv\")\n",
    "\n",
    "fname = \"parsimony.csv\"\n",
    "df = pd.read_csv(fname)\n",
    "\n",
    "df[\"copy_number\"] = [i for i in range(cn_max + 1)]\n",
    "#pd.melt(df, id_vars = [\"copy_number\"], value_vars = [str(i+1) for i in range(num_site)], var_name = \"num_site\", value_name = \"parsimony_score\")\n",
    "#ps_score.rename(rows = [str(i) for i in range(cn_max)])\n",
    "#pd.melt(df, [str(i+1) for i in range(num_site)], id_values, var_name, value_name )\n",
    "min_score = df.melt(id_vars = [\"copy_number\"], value_vars = [str(i+1) for i in range(num_site)], \n",
    "        var_name = \"site_id\", value_name = \"parsimony_score\")\\\n",
    " .groupby(\"site_id\")\\\n",
    " .agg({\"parsimony_score\":\"min\"})\n",
    "min_score['site'] = min_score.index\n",
    "#type(min_score)\n",
    "sns.catplot(x=\"site\", y=\"parsimony_score\", jitter=False, data=min_score)\n",
    "sns.barplot(x=\"site\", y=\"parsimony_score\", data=min_score);\n",
    "\n",
    "\n"
   ]
  },
  {
   "cell_type": "code",
   "execution_count": 19,
   "metadata": {},
   "outputs": [
    {
     "name": "stdout",
     "output_type": "stream",
     "text": [
      "max 16.0\n"
     ]
    },
    {
     "data": {
      "image/png": "[encoded data removed]",
      "text/plain": [
       "<Figure size 432x288 with 1 Axes>"
      ]
     },
     "metadata": {
      "needs_background": "light"
     },
     "output_type": "display_data"
    }
   ],
   "source": [
    "def plot_parsimony(fname, cn_max, num_site, min=False):\n",
    "    df = pd.read_csv(fname)\n",
    "    df[\"copy_number\"] = [i for i in range(cn_max + 1)]\n",
    "    df = df.melt(id_vars = [\"copy_number\"], value_vars = [str(i+1) for i in range(num_site)], \n",
    "            var_name = \"site_id\", value_name = \"parsimony_score\")\\\n",
    "\n",
    "     \n",
    "    min_score = df.groupby(\"site_id\")\\\n",
    "                .agg({\"parsimony_score\":\"min\"})\n",
    "    min_score['site'] = min_score.index\n",
    "    #type(min_score)\n",
    "    max_hue = max(df[df.parsimony_score != np.inf].parsimony_score)\n",
    "    #print(df[df.parsimony_score != np.inf])\n",
    "    panel = sns.cubehelix_palette(max_hue, start=2, rot=0, dark=0, light=.95, reverse=True)\n",
    "    print(\"max\",max_hue)\n",
    "    if min:\n",
    "        sns.barplot(x=\"site\", y=\"parsimony_score\", data=min_score);\n",
    "    else:\n",
    "        colors = [\"#FF0B04\", \"#4374B3\"]\n",
    "        sns.set_palette(sns.color_palette(colors))\n",
    "        sns.scatterplot(x=\"site_id\", y=\"copy_number\", data=df, hue=\"parsimony_score\")\n",
    "   \n",
    "\n",
    "\n",
    "#plot_parsimony(\"parsimony.csv\", cn_max, num_site, True)\n",
    "plot_parsimony(\"parsimony.csv\", cn_max, num_site)\n",
    "    "
   ]
  }
 ],
 "metadata": {
  "kernelspec": {
   "display_name": "Python 3",
   "language": "python",
   "name": "python3"
  },
  "language_info": {
   "codemirror_mode": {
    "name": "ipython",
    "version": 3
   },
   "file_extension": ".py",
   "mimetype": "text/x-python",
   "name": "python",
   "nbconvert_exporter": "python",
   "pygments_lexer": "ipython3",
   "version": "3.7.0"
  }
 },
 "nbformat": 4,
 "nbformat_minor": 4
}
