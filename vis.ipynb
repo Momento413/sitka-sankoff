{
 "cells": [
  {
   "cell_type": "code",
   "execution_count": 40,
   "metadata": {
    "scrolled": true
   },
   "outputs": [
    {
     "name": "stdout",
     "output_type": "stream",
     "text": [
      "(a:1,(d:2,b:3,c:4),(e:1, f:2))\n",
      "a:1\n",
      "(d:2,b:3,c:4)\n",
      "d:2\n",
      "b:3\n",
      "c:4\n",
      "(e:1, f:2)\n",
      "e:1\n",
      " f:2\n",
      "a 1\n",
      "d 2\n",
      "b 3\n",
      "c 4\n",
      "e 5\n",
      "f 6\n",
      "{None: array([4, 3, 1, 1, 0, 0, 1, 4]), 'a': array([4, 1, 1, 0, 4, 2, 2, 2]), 'd': array([4, 1, 0, 1, 3, 1, 0, 2]), 'b': array([4, 0, 1, 1, 4, 4, 3, 1]), 'c': array([1, 3, 2, 1, 0, 4, 4, 4]), 'e': array([3, 3, 0, 1, 2, 0, 1, 1]), 'f': array([2, 3, 2, 0, 0, 0, 2, 3])}\n",
      "[[inf 11.  8.  6.  5.  8.]\n",
      " [inf  5.  6.  7. 10. 13.]\n",
      " [inf  4.  6.  9. 12. 15.]\n",
      " [inf  2.  5.  8. 11. 14.]\n",
      " [inf 11.  9.  8.  9. 12.]\n",
      " [inf  8.  7.  8.  9. 12.]\n",
      " [inf  8.  6.  7. 10. 13.]\n",
      " [inf  7.  5.  7. 10. 13.]]\n",
      "number of leaf: 6\n",
      "number of sites: 8\n",
      "number of max copies: 5\n"
     ]
    },
    {
     "ename": "KeyError",
     "evalue": "'parsimony_score'",
     "output_type": "error",
     "traceback": [
      "\u001b[1;31m---------------------------------------------------------------------------\u001b[0m",
      "\u001b[1;31mKeyError\u001b[0m                                  Traceback (most recent call last)",
      "\u001b[1;32mf:\\carleton\\cbsp\\env\\lib\\site-packages\\pandas\\core\\indexes\\base.py\u001b[0m in \u001b[0;36mget_loc\u001b[1;34m(self, key, method, tolerance)\u001b[0m\n\u001b[0;32m   2645\u001b[0m             \u001b[1;32mtry\u001b[0m\u001b[1;33m:\u001b[0m\u001b[1;33m\u001b[0m\u001b[0m\n\u001b[1;32m-> 2646\u001b[1;33m                 \u001b[1;32mreturn\u001b[0m \u001b[0mself\u001b[0m\u001b[1;33m.\u001b[0m\u001b[0m_engine\u001b[0m\u001b[1;33m.\u001b[0m\u001b[0mget_loc\u001b[0m\u001b[1;33m(\u001b[0m\u001b[0mkey\u001b[0m\u001b[1;33m)\u001b[0m\u001b[1;33m\u001b[0m\u001b[0m\n\u001b[0m\u001b[0;32m   2647\u001b[0m             \u001b[1;32mexcept\u001b[0m \u001b[0mKeyError\u001b[0m\u001b[1;33m:\u001b[0m\u001b[1;33m\u001b[0m\u001b[0m\n",
      "\u001b[1;32mpandas\\_libs\\index.pyx\u001b[0m in \u001b[0;36mpandas._libs.index.IndexEngine.get_loc\u001b[1;34m()\u001b[0m\n",
      "\u001b[1;32mpandas\\_libs\\index.pyx\u001b[0m in \u001b[0;36mpandas._libs.index.IndexEngine.get_loc\u001b[1;34m()\u001b[0m\n",
      "\u001b[1;32mpandas\\_libs\\hashtable_class_helper.pxi\u001b[0m in \u001b[0;36mpandas._libs.hashtable.PyObjectHashTable.get_item\u001b[1;34m()\u001b[0m\n",
      "\u001b[1;32mpandas\\_libs\\hashtable_class_helper.pxi\u001b[0m in \u001b[0;36mpandas._libs.hashtable.PyObjectHashTable.get_item\u001b[1;34m()\u001b[0m\n",
      "\u001b[1;31mKeyError\u001b[0m: 'parsimony_score'",
      "\nDuring handling of the above exception, another exception occurred:\n",
      "\u001b[1;31mKeyError\u001b[0m                                  Traceback (most recent call last)",
      "\u001b[1;32m<ipython-input-40-07465904374b>\u001b[0m in \u001b[0;36m<module>\u001b[1;34m\u001b[0m\n\u001b[0;32m     49\u001b[0m \u001b[0msns\u001b[0m\u001b[1;33m.\u001b[0m\u001b[0mbarplot\u001b[0m\u001b[1;33m(\u001b[0m\u001b[0mx\u001b[0m\u001b[1;33m=\u001b[0m\u001b[1;34m\"site\"\u001b[0m\u001b[1;33m,\u001b[0m \u001b[0my\u001b[0m\u001b[1;33m=\u001b[0m\u001b[1;34m\"parsimony_score\"\u001b[0m\u001b[1;33m,\u001b[0m \u001b[0mdata\u001b[0m\u001b[1;33m=\u001b[0m\u001b[0mmin_score\u001b[0m\u001b[1;33m)\u001b[0m\u001b[1;33m;\u001b[0m\u001b[1;33m\u001b[0m\u001b[0m\n\u001b[0;32m     50\u001b[0m \u001b[1;33m\u001b[0m\u001b[0m\n\u001b[1;32m---> 51\u001b[1;33m \u001b[0mdf\u001b[0m\u001b[1;33m[\u001b[0m\u001b[1;34m\"parsimony_score\"\u001b[0m\u001b[1;33m]\u001b[0m\u001b[1;33m\u001b[0m\u001b[0m\n\u001b[0m",
      "\u001b[1;32mf:\\carleton\\cbsp\\env\\lib\\site-packages\\pandas\\core\\frame.py\u001b[0m in \u001b[0;36m__getitem__\u001b[1;34m(self, key)\u001b[0m\n\u001b[0;32m   2798\u001b[0m             \u001b[1;32mif\u001b[0m \u001b[0mself\u001b[0m\u001b[1;33m.\u001b[0m\u001b[0mcolumns\u001b[0m\u001b[1;33m.\u001b[0m\u001b[0mnlevels\u001b[0m \u001b[1;33m>\u001b[0m \u001b[1;36m1\u001b[0m\u001b[1;33m:\u001b[0m\u001b[1;33m\u001b[0m\u001b[0m\n\u001b[0;32m   2799\u001b[0m                 \u001b[1;32mreturn\u001b[0m \u001b[0mself\u001b[0m\u001b[1;33m.\u001b[0m\u001b[0m_getitem_multilevel\u001b[0m\u001b[1;33m(\u001b[0m\u001b[0mkey\u001b[0m\u001b[1;33m)\u001b[0m\u001b[1;33m\u001b[0m\u001b[0m\n\u001b[1;32m-> 2800\u001b[1;33m             \u001b[0mindexer\u001b[0m \u001b[1;33m=\u001b[0m \u001b[0mself\u001b[0m\u001b[1;33m.\u001b[0m\u001b[0mcolumns\u001b[0m\u001b[1;33m.\u001b[0m\u001b[0mget_loc\u001b[0m\u001b[1;33m(\u001b[0m\u001b[0mkey\u001b[0m\u001b[1;33m)\u001b[0m\u001b[1;33m\u001b[0m\u001b[0m\n\u001b[0m\u001b[0;32m   2801\u001b[0m             \u001b[1;32mif\u001b[0m \u001b[0mis_integer\u001b[0m\u001b[1;33m(\u001b[0m\u001b[0mindexer\u001b[0m\u001b[1;33m)\u001b[0m\u001b[1;33m:\u001b[0m\u001b[1;33m\u001b[0m\u001b[0m\n\u001b[0;32m   2802\u001b[0m                 \u001b[0mindexer\u001b[0m \u001b[1;33m=\u001b[0m \u001b[1;33m[\u001b[0m\u001b[0mindexer\u001b[0m\u001b[1;33m]\u001b[0m\u001b[1;33m\u001b[0m\u001b[0m\n",
      "\u001b[1;32mf:\\carleton\\cbsp\\env\\lib\\site-packages\\pandas\\core\\indexes\\base.py\u001b[0m in \u001b[0;36mget_loc\u001b[1;34m(self, key, method, tolerance)\u001b[0m\n\u001b[0;32m   2646\u001b[0m                 \u001b[1;32mreturn\u001b[0m \u001b[0mself\u001b[0m\u001b[1;33m.\u001b[0m\u001b[0m_engine\u001b[0m\u001b[1;33m.\u001b[0m\u001b[0mget_loc\u001b[0m\u001b[1;33m(\u001b[0m\u001b[0mkey\u001b[0m\u001b[1;33m)\u001b[0m\u001b[1;33m\u001b[0m\u001b[0m\n\u001b[0;32m   2647\u001b[0m             \u001b[1;32mexcept\u001b[0m \u001b[0mKeyError\u001b[0m\u001b[1;33m:\u001b[0m\u001b[1;33m\u001b[0m\u001b[0m\n\u001b[1;32m-> 2648\u001b[1;33m                 \u001b[1;32mreturn\u001b[0m \u001b[0mself\u001b[0m\u001b[1;33m.\u001b[0m\u001b[0m_engine\u001b[0m\u001b[1;33m.\u001b[0m\u001b[0mget_loc\u001b[0m\u001b[1;33m(\u001b[0m\u001b[0mself\u001b[0m\u001b[1;33m.\u001b[0m\u001b[0m_maybe_cast_indexer\u001b[0m\u001b[1;33m(\u001b[0m\u001b[0mkey\u001b[0m\u001b[1;33m)\u001b[0m\u001b[1;33m)\u001b[0m\u001b[1;33m\u001b[0m\u001b[0m\n\u001b[0m\u001b[0;32m   2649\u001b[0m         \u001b[0mindexer\u001b[0m \u001b[1;33m=\u001b[0m \u001b[0mself\u001b[0m\u001b[1;33m.\u001b[0m\u001b[0mget_indexer\u001b[0m\u001b[1;33m(\u001b[0m\u001b[1;33m[\u001b[0m\u001b[0mkey\u001b[0m\u001b[1;33m]\u001b[0m\u001b[1;33m,\u001b[0m \u001b[0mmethod\u001b[0m\u001b[1;33m=\u001b[0m\u001b[0mmethod\u001b[0m\u001b[1;33m,\u001b[0m \u001b[0mtolerance\u001b[0m\u001b[1;33m=\u001b[0m\u001b[0mtolerance\u001b[0m\u001b[1;33m)\u001b[0m\u001b[1;33m\u001b[0m\u001b[0m\n\u001b[0;32m   2650\u001b[0m         \u001b[1;32mif\u001b[0m \u001b[0mindexer\u001b[0m\u001b[1;33m.\u001b[0m\u001b[0mndim\u001b[0m \u001b[1;33m>\u001b[0m \u001b[1;36m1\u001b[0m \u001b[1;32mor\u001b[0m \u001b[0mindexer\u001b[0m\u001b[1;33m.\u001b[0m\u001b[0msize\u001b[0m \u001b[1;33m>\u001b[0m \u001b[1;36m1\u001b[0m\u001b[1;33m:\u001b[0m\u001b[1;33m\u001b[0m\u001b[0m\n",
      "\u001b[1;32mpandas\\_libs\\index.pyx\u001b[0m in \u001b[0;36mpandas._libs.index.IndexEngine.get_loc\u001b[1;34m()\u001b[0m\n",
      "\u001b[1;32mpandas\\_libs\\index.pyx\u001b[0m in \u001b[0;36mpandas._libs.index.IndexEngine.get_loc\u001b[1;34m()\u001b[0m\n",
      "\u001b[1;32mpandas\\_libs\\hashtable_class_helper.pxi\u001b[0m in \u001b[0;36mpandas._libs.hashtable.PyObjectHashTable.get_item\u001b[1;34m()\u001b[0m\n",
      "\u001b[1;32mpandas\\_libs\\hashtable_class_helper.pxi\u001b[0m in \u001b[0;36mpandas._libs.hashtable.PyObjectHashTable.get_item\u001b[1;34m()\u001b[0m\n",
      "\u001b[1;31mKeyError\u001b[0m: 'parsimony_score'"
     ]
    },
    {
     "data": {
      "image/png": "[encoded data removed]",
      "text/plain": [
       "<Figure size 360x360 with 1 Axes>"
      ]
     },
     "metadata": {
      "needs_background": "light"
     },
     "output_type": "display_data"
    }
   ],
   "source": [
    "from dollo_tree import TreeNode\n",
    "import _delete as dl\n",
    "import numpy as np\n",
    "import seaborn as sns\n",
    "import parsing_tree_gwick as pt\n",
    "import pandas as pd\n",
    "\n",
    "\n",
    "tree_gw = \"(a:1,(d:2,b:3,c:4),(e:1, f:2))\"\n",
    "\n",
    "tree1 = pt.loads(tree_gw)[0]\n",
    "\n",
    "cn_max = 5\n",
    "num_site = 8\n",
    "leaf_cns = {}\n",
    "tree1.count_leaves()\n",
    "\n",
    "for node in tree1.nodes:\n",
    "    leaf_cns[node.name] = np.random.randint(cn_max, size=num_site)\n",
    "print(leaf_cns)\n",
    "#leaf_cns = {\"a\":[1,2], \"b\":[2,4], \"c\":[3,6], \"d\":[4,8]}\n",
    "#dl.calc_score_recursive(tree1, leaf_cns1, 1, 8)\n",
    "#print(tree1.cn_score)\n",
    "dl.calc_score_recursive_vect(tree1, leaf_cns, 1, cn_max, num_site)\n",
    "print(tree1.cn_score)\n",
    "print(\"number of leaf: %d\" % tree1.num_leaves)\n",
    "print(\"number of sites: %d\" % num_site)\n",
    "print(\"number of max copies: %d\" % cn_max)\n",
    "\n",
    "pd.DataFrame(np.array([[1, 2, 3], [4, 5, 6], [7, 8, 9]]),\n",
    "                   columns=['a', 'b', 'c'])\n",
    "\n",
    "pd.DataFrame(tree1.cn_score.transpose(), columns = [str(i+1) for i in range(num_site)]).to_csv(\"parsimony.csv\")\n",
    "\n",
    "fname = \"parsimony.csv\"\n",
    "df = pd.read_csv(fname)\n",
    "\n",
    "df[\"copy_number\"] = [i for i in range(cn_max + 1)]\n",
    "#pd.melt(df, id_vars = [\"copy_number\"], value_vars = [str(i+1) for i in range(num_site)], var_name = \"num_site\", value_name = \"parsimony_score\")\n",
    "#ps_score.rename(rows = [str(i) for i in range(cn_max)])\n",
    "#pd.melt(df, [str(i+1) for i in range(num_site)], id_values, var_name, value_name )\n",
    "min_score = df.melt(id_vars = [\"copy_number\"], value_vars = [str(i+1) for i in range(num_site)], \n",
    "        var_name = \"site_id\", value_name = \"parsimony_score\")\\\n",
    " .groupby(\"site_id\")\\\n",
    " .agg({\"parsimony_score\":\"min\"})\n",
    "min_score['site'] = min_score.index\n",
    "#type(min_score)\n",
    "sns.catplot(x=\"site\", y=\"parsimony_score\", jitter=False, data=min_score)\n",
    "sns.barplot(x=\"site\", y=\"parsimony_score\", data=min_score);\n",
    "\n",
    "\n"
   ]
  },
  {
   "cell_type": "code",
   "execution_count": 42,
   "metadata": {},
   "outputs": [
    {
     "name": "stdout",
     "output_type": "stream",
     "text": [
      "0      inf\n",
      "1     11.0\n",
      "2      8.0\n",
      "3      6.0\n",
      "4      5.0\n",
      "5      8.0\n",
      "6      inf\n",
      "7      5.0\n",
      "8      6.0\n",
      "9      7.0\n",
      "10    10.0\n",
      "11    13.0\n",
      "12     inf\n",
      "13     4.0\n",
      "14     6.0\n",
      "15     9.0\n",
      "16    12.0\n",
      "17    15.0\n",
      "18     inf\n",
      "19     2.0\n",
      "20     5.0\n",
      "21     8.0\n",
      "22    11.0\n",
      "23    14.0\n",
      "24     inf\n",
      "25    11.0\n",
      "26     9.0\n",
      "27     8.0\n",
      "28     9.0\n",
      "29    12.0\n",
      "30     inf\n",
      "31     8.0\n",
      "32     7.0\n",
      "33     8.0\n",
      "34     9.0\n",
      "35    12.0\n",
      "36     inf\n",
      "37     8.0\n",
      "38     6.0\n",
      "39     7.0\n",
      "40    10.0\n",
      "41    13.0\n",
      "42     inf\n",
      "43     7.0\n",
      "44     5.0\n",
      "45     7.0\n",
      "46    10.0\n",
      "47    13.0\n",
      "Name: parsimony_score, dtype: float64\n"
     ]
    },
    {
     "data": {
      "image/png": "[encoded data removed]",
      "text/plain": [
       "<Figure size 432x288 with 1 Axes>"
      ]
     },
     "metadata": {
      "needs_background": "light"
     },
     "output_type": "display_data"
    }
   ],
   "source": [
    "def plot_parsimony(fname, cn_max, num_site, min=False):\n",
    "    df = pd.read_csv(fname)\n",
    "    df[\"copy_number\"] = [i for i in range(cn_max + 1)]\n",
    "    df = df.melt(id_vars = [\"copy_number\"], value_vars = [str(i+1) for i in range(num_site)], \n",
    "            var_name = \"site_id\", value_name = \"parsimony_score\")\\\n",
    "\n",
    "     \n",
    "    min_score = df.groupby(\"site_id\")\\\n",
    "                .agg({\"parsimony_score\":\"min\"})\n",
    "    min_score['site'] = min_score.index\n",
    "    #type(min_score)\n",
    "    max_hue = max(df[\"parsimony_score\"])\n",
    "    print(df[\"parsimony_score\"])\n",
    "    if min:\n",
    "         sns.barplot(x=\"site\", y=\"parsimony_score\", data=min_score);\n",
    "    else:\n",
    "         sns.scatterplot(x=\"site_id\", y=\"copy_number\", data=df, hue=\"parsimony_score\")\n",
    "   \n",
    "\n",
    "\n",
    "plot_parsimony(\"parsimony.csv\", cn_max, num_site, True)    \n",
    "    "
   ]
  }
 ],
 "metadata": {
  "kernelspec": {
   "display_name": "Python 3",
   "language": "python",
   "name": "python3"
  },
  "language_info": {
   "codemirror_mode": {
    "name": "ipython",
    "version": 3
   },
   "file_extension": ".py",
   "mimetype": "text/x-python",
   "name": "python",
   "nbconvert_exporter": "python",
   "pygments_lexer": "ipython3",
   "version": "3.7.0"
  }
 },
 "nbformat": 4,
 "nbformat_minor": 4
}
